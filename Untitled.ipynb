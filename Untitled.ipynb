{
 "cells": [
  {
   "cell_type": "markdown",
   "metadata": {},
   "source": [
    "##素数判定\n",
    "\n",
    "第一种\n",
    "暴力破解法\n",
    "\n",
    "(0,n-1)之间要判定素数,需要在(0,m)先判定是不是质数,这样的话时间复杂度是m*n,也就是n2"
   ]
  },
  {
   "cell_type": "code",
   "execution_count": 17,
   "metadata": {},
   "outputs": [
    {
     "name": "stdout",
     "output_type": "stream",
     "text": [
      "[0, 1, 2, 3, 5, 7, 11, 13, 17, 19, 23, 29, 31, 37, 41, 43, 47, 53, 59, 61, 67, 71, 73, 79, 83, 89, 97]\n"
     ]
    }
   ],
   "source": [
    "# ...\n",
    "# 第二种\n",
    "# 数论法\n",
    "# 任何素数都不能被表示成质数与其他数的乘积,因此可以在判定的时候,不断增加小于本身的质数,只要质数不能整除,就是新的质数,时间复杂度是O(n2)\n",
    "# ...\n",
    "\n",
    "prime_array = [2,3]\n",
    "def is_zhishu(n):\n",
    "    if n <= 3:\n",
    "        return True\n",
    "    for i in range(len(prime_array)):\n",
    "        if n > prime_array[i] and n % prime_array[i] == 0 :\n",
    "            return False\n",
    "    prime_array.append(n)\n",
    "    return True\n",
    "def is_sushu(k):\n",
    "    sushu = []\n",
    "    for i in range(k+1):\n",
    "        if is_zhishu(i):\n",
    "            sushu.append(i)\n",
    "    return sushu\n",
    "print(is_sushu(100))"
   ]
  },
  {
   "cell_type": "code",
   "execution_count": 21,
   "metadata": {},
   "outputs": [
    {
     "name": "stdout",
     "output_type": "stream",
     "text": [
      "0,1,2,3,5,7,11,13,17,19,23,29,31,37,41,43,47,53,59,61,67,71,73,79,83,89,97,"
     ]
    }
   ],
   "source": [
    "# 第三种 ,也是因为第二种演变而来的\n",
    "# 我们可以去掉质数的整数倍,在遍历的时候不去遍历这些数,用来节省时间\n",
    "# 可以使用打标签的方法,时间复杂度是O(n2)\n",
    "\n",
    "def get_prime_array(n):\n",
    "    prime_array = []\n",
    "    for i in range(n+1):\n",
    "        prime_array.append(True)\n",
    "    for i in range(2, n + 1):\n",
    "        if prime_array[i] == True:\n",
    "            p = i\n",
    "            j = 2\n",
    "            while p*j <= n :\n",
    "                prime_array[p*j] = False\n",
    "                j += 1\n",
    "    for i in range(len(prime_array)):\n",
    "        if prime_array[i] == True:\n",
    "            print(\"{0},\".format(i), end = '')\n",
    "n = 100\n",
    "    \n",
    "get_prime_array(n)\n",
    "\n",
    "\n"
   ]
  },
  {
   "cell_type": "code",
   "execution_count": null,
   "metadata": {},
   "outputs": [],
   "source": []
  }
 ],
 "metadata": {
  "kernelspec": {
   "display_name": "Python 3",
   "language": "python",
   "name": "python3"
  },
  "language_info": {
   "codemirror_mode": {
    "name": "ipython",
    "version": 3
   },
   "file_extension": ".py",
   "mimetype": "text/x-python",
   "name": "python",
   "nbconvert_exporter": "python",
   "pygments_lexer": "ipython3",
   "version": "3.6.8"
  }
 },
 "nbformat": 4,
 "nbformat_minor": 4
}
