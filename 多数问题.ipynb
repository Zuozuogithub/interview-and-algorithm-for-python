{
 "cells": [
  {
   "cell_type": "markdown",
   "metadata": {},
   "source": [
    "#多数问题\n",
    "\n",
    "\n",
    "解题思路\n",
    "\n",
    "1.仍然是由繁入简,想到了暴力破解,列表里的每个元素都记录一遍,然后过半的那个元素输出,这样时间复杂度是O(n2)\n",
    "2.更好一点的做法是排序,排好序后,在中间处的那个元素必定是众数,这样时间复杂度是O(nlogn)\n",
    "3.后来看到了网上的投票法,这种方法巧妙之处在于,先判定第一个元素是众数,统计下一个是不是一样,一样就++,否则--,count为0时,就替换到下一个元素,最后返回count计数的那个元素\n",
    "这样做的时间复杂度为O(n),就遍历了一次,非常巧妙.\n"
   ]
  },
  {
   "cell_type": "code",
   "execution_count": 33,
   "metadata": {},
   "outputs": [],
   "source": [
    "def voteMax(nums):\n",
    "    count = 0\n",
    "    target = nums[0]  #默认第一个是最多的\n",
    "    for i in range(1,len(nums)):\n",
    "        if nums[i] == target:\n",
    "            count += 1\n",
    "            print(\"the first count:{},and the target is {}\".format(count, nums[i]))\n",
    "        else:\n",
    "            count -= 1\n",
    "        if count < 0:  #不是的话就替换掉\n",
    "            target = nums[i+1]\n",
    "    return target\n"
   ]
  },
  {
   "cell_type": "code",
   "execution_count": 34,
   "metadata": {},
   "outputs": [
    {
     "name": "stdout",
     "output_type": "stream",
     "text": [
      "the first count:0,and the target is 3\n"
     ]
    },
    {
     "data": {
      "text/plain": [
       "3"
      ]
     },
     "execution_count": 34,
     "metadata": {},
     "output_type": "execute_result"
    }
   ],
   "source": [
    "nums = [3,2,3]\n",
    "voteMax(nums)"
   ]
  },
  {
   "cell_type": "code",
   "execution_count": null,
   "metadata": {},
   "outputs": [],
   "source": []
  }
 ],
 "metadata": {
  "kernelspec": {
   "display_name": "Python 3",
   "language": "python",
   "name": "python3"
  },
  "language_info": {
   "codemirror_mode": {
    "name": "ipython",
    "version": 3
   },
   "file_extension": ".py",
   "mimetype": "text/x-python",
   "name": "python",
   "nbconvert_exporter": "python",
   "pygments_lexer": "ipython3",
   "version": "3.6.8"
  }
 },
 "nbformat": 4,
 "nbformat_minor": 4
}
