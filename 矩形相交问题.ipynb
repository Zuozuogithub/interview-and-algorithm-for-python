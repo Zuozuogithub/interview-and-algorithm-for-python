{
 "cells": [
  {
   "cell_type": "markdown",
   "metadata": {},
   "source": [
    "两个矩形相交,\n",
    "判断是否相交,以及相交的矩形面积\n",
    "\n",
    "\n",
    "\n",
    "\n",
    "\n",
    "1.首先这道题有两个问题,是否相交以及相交后的矩形面积\n",
    "第一步思路是,创建一个类来解决问题,类的话要把矩形私有化,第一个是表示矩形,用矩形的左下角坐标(Sx,Sy)和宽度Sw,高度Sh来表示.以此类推.\n",
    "第二步画图,如果两个矩形相交,相交的矩形的左下角坐标是{max(Sx,Rx),max(Sy,Ry)},宽度w:{min(Sx + Sw, Rx + Rw)- max(Sx,Rx)},高度h:{min(Sy + Sh, Ry + Rh) - max(Sy,Ry)}\n",
    "\n",
    "\n",
    "#应该没有别的意思了吧,感觉是考代码基本功"
   ]
  },
  {
   "cell_type": "code",
   "execution_count": 19,
   "metadata": {},
   "outputs": [],
   "source": [
    "class Rectangle(object):\n",
    "    #构造一个矩形的类\n",
    "    def __init__(self, x, y, width, height):\n",
    "        self.x = x\n",
    "        self.y = y\n",
    "        self.w = width\n",
    "        self.h = height\n",
    "    def isInterset(self, r):\n",
    "        #判断相交的思路是,两个矩形的横纵坐标加上各自的长宽必定有交集,即(Sx, Sx+w)与(Rx,Rx + w)相交,y轴也类似.x轴上一个矩形的左下角必定小于另一个的右下角,\n",
    "        #y轴上一个矩形的最下面必定小于另一个矩形的最上面\n",
    "        if self.x <r.x + r.w and r.x < self.x + self.w and self.y < r.y + r.h and r.y < self.y + self.h:\n",
    "            return True\n",
    "        else:\n",
    "            return False\n",
    "    #接下来就是计算矩形的面积 ,根据上面的推导,返回一个矩形的实例\n",
    "    def intersetArea(self,r):\n",
    "        if self.isInterset(r):\n",
    "            return Rectangle(max(self.x,r.x), max(self.y,r.y), min(self.x + self.w, r.x + r.x) - max(self.x, r.x),min(self.y + self.h, r.y + r.h) - max(self.y,r.y))\n",
    "        return null\n",
    "    "
   ]
  },
  {
   "cell_type": "code",
   "execution_count": 26,
   "metadata": {},
   "outputs": [
    {
     "data": {
      "text/plain": [
       "True"
      ]
     },
     "execution_count": 26,
     "metadata": {},
     "output_type": "execute_result"
    }
   ],
   "source": [
    "a  = Rectangle(.1,.1,.6,.6)\n",
    "b  = Rectangle(.5,.5,.3,.3)\n",
    "a.isInterset(b)"
   ]
  },
  {
   "cell_type": "code",
   "execution_count": 31,
   "metadata": {},
   "outputs": [
    {
     "name": "stdout",
     "output_type": "stream",
     "text": [
      "x:0.5,y:0.5,w0.19999999999999996,h:0.19999999999999996\n"
     ]
    },
    {
     "data": {
      "image/png": "[encoded data removed]",
      "text/plain": [
       "<Figure size 216x216 with 1 Axes>"
      ]
     },
     "metadata": {
      "needs_background": "light"
     },
     "output_type": "display_data"
    }
   ],
   "source": [
    "#顺手学一下怎么使用matplotlib\n",
    "import matplotlib.pyplot as plt\n",
    "import matplotlib.patches as patches\n",
    "fig = plt.figure(figsize=(3,3))\n",
    "ax = fig.add_subplot( aspect = 'equal')\n",
    "ax.add_patch(patches.Rectangle((a.x, a.y), a.w, a.h, facecolor = 'red'))\n",
    "ax.add_patch(patches.Rectangle((b.x, b.y), b.w, b.h, facecolor = 'blue'))\n",
    "# fig.savefig('rectangle.png', dpi = 90, bbox_inches = 'tight')\n",
    "# plt.show('rectangle.png')\n",
    "if a.isInterset(b) is True:\n",
    "    interset = a.intersetArea(b)\n",
    "    print(\"x:{0},y:{1},w{2},h:{3}\".format(interset.x,interset.y,interset.w,interset.h))\n",
    "    ax.add_patch(patches.Rectangle((interset.x,interset.y), interset.w, interset.h, facecolor = 'green'))\n",
    "    fig.savefig('rectangle.png', dpi = 90, bbox_inches = 'tight')\n",
    "    plt.show('rectangle.png')"
   ]
  },
  {
   "cell_type": "code",
   "execution_count": null,
   "metadata": {},
   "outputs": [],
   "source": []
  }
 ],
 "metadata": {
  "kernelspec": {
   "display_name": "Python 3",
   "language": "python",
   "name": "python3"
  },
  "language_info": {
   "codemirror_mode": {
    "name": "ipython",
    "version": 3
   },
   "file_extension": ".py",
   "mimetype": "text/x-python",
   "name": "python",
   "nbconvert_exporter": "python",
   "pygments_lexer": "ipython3",
   "version": "3.6.8"
  }
 },
 "nbformat": 4,
 "nbformat_minor": 4
}
